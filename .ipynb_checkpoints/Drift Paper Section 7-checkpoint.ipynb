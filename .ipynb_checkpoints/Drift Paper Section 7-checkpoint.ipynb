{
 "cells": [
  {
   "cell_type": "markdown",
   "id": "5214bb8b",
   "metadata": {},
   "source": [
    "# Drift Paper - Checking Assumptions - Sec 7\n",
    "\n",
    "Craig L. Champlin,\n",
    "Using odometry drift to match ILI joint boundaries for run comparisons,\n",
    "International Journal of Pressure Vessels and Piping,\n",
    "Volume 213,\n",
    "2025,\n",
    "105351,\n",
    "ISSN 0308-0161,\n",
    "https://doi.org/10.1016/j.ijpvp.2024.105351.\n",
    "(https://www.sciencedirect.com/science/article/pii/S0308016124002291)\n",
    "\n",
    "This section of the paper verifies the key assumptions from the derivation of Section 5\n",
    "\n",
    "## Assumptions:\n",
    "\n",
    "1. Joint boundary spacing is regulaar \n",
    "2. The drift is smooth (not in this file)\n",
    "3. The drift is first order stationary with a trend\n",
    "\n",
    "\n",
    "### A note on stationarity\n",
    "\n",
    "If a series is trend stationary...\n",
    "1. the mean is a trend \n",
    "2. variance is constant\n",
    "3. there is no autocorrelation\n",
    "4. the sequence contains information (is not random)\n",
    "\n",
    "\n",
    "## Resources:\n",
    "* https://towardsdatascience.com/detecting-stationarity-in-time-series-data-d29e0a21e638\n",
    "* https://arch.readthedocs.io/en/latest/"
   ]
  },
  {
   "cell_type": "markdown",
   "id": "e69b4a51",
   "metadata": {},
   "source": [
    "## Setup and Import Packages"
   ]
  },
  {
   "cell_type": "code",
   "execution_count": 1,
   "id": "69745014",
   "metadata": {
    "ExecuteTime": {
     "end_time": "2024-11-23T05:15:15.279397Z",
     "start_time": "2024-11-23T05:15:15.273129Z"
    },
    "tags": []
   },
   "outputs": [
    {
     "name": "stdout",
     "output_type": "stream",
     "text": [
      "Populating the interactive namespace from numpy and matplotlib\n"
     ]
    }
   ],
   "source": [
    "%pylab inline\n",
    "\n",
    "import warnings\n",
    "warnings.simplefilter(\"ignore\")\n",
    "\n",
    "import matplotlib.pyplot as plt\n",
    "plt.rc(\"savefig\", dpi=90)\n",
    "plt.rc(\"font\", family=\"sans-serif\")     \n",
    "plt.rc(\"font\", size=14)      \n",
    "\n",
    "import seaborn as sns\n",
    "sns.set_style(\"darkgrid\")\n",
    "\n",
    "import numpy as np\n",
    "import pandas as pd"
   ]
  },
  {
   "cell_type": "markdown",
   "id": "a0377878",
   "metadata": {},
   "source": [
    "## Import Data"
   ]
  },
  {
   "cell_type": "code",
   "execution_count": 2,
   "id": "afb4e0fa",
   "metadata": {
    "ExecuteTime": {
     "end_time": "2024-11-23T05:15:19.097646Z",
     "start_time": "2024-11-23T05:15:19.078553Z"
    }
   },
   "outputs": [
    {
     "data": {
      "text/html": [
       "<div>\n",
       "<style scoped>\n",
       "    .dataframe tbody tr th:only-of-type {\n",
       "        vertical-align: middle;\n",
       "    }\n",
       "\n",
       "    .dataframe tbody tr th {\n",
       "        vertical-align: top;\n",
       "    }\n",
       "\n",
       "    .dataframe thead th {\n",
       "        text-align: right;\n",
       "    }\n",
       "</style>\n",
       "<table border=\"1\" class=\"dataframe\">\n",
       "  <thead>\n",
       "    <tr style=\"text-align: right;\">\n",
       "      <th></th>\n",
       "      <th>odoA</th>\n",
       "      <th>event</th>\n",
       "      <th>drift</th>\n",
       "      <th>diff1</th>\n",
       "    </tr>\n",
       "  </thead>\n",
       "  <tbody>\n",
       "    <tr>\n",
       "      <th>0</th>\n",
       "      <td>279.53</td>\n",
       "      <td>weld</td>\n",
       "      <td>-61.97</td>\n",
       "      <td>0.08</td>\n",
       "    </tr>\n",
       "    <tr>\n",
       "      <th>1</th>\n",
       "      <td>304.78</td>\n",
       "      <td>casing</td>\n",
       "      <td>-61.14</td>\n",
       "      <td>0.83</td>\n",
       "    </tr>\n",
       "    <tr>\n",
       "      <th>2</th>\n",
       "      <td>324.62</td>\n",
       "      <td>bweld</td>\n",
       "      <td>-61.91</td>\n",
       "      <td>-0.77</td>\n",
       "    </tr>\n",
       "    <tr>\n",
       "      <th>3</th>\n",
       "      <td>331.07</td>\n",
       "      <td>weld</td>\n",
       "      <td>-61.93</td>\n",
       "      <td>-0.02</td>\n",
       "    </tr>\n",
       "    <tr>\n",
       "      <th>4</th>\n",
       "      <td>373.51</td>\n",
       "      <td>weld</td>\n",
       "      <td>-61.99</td>\n",
       "      <td>-0.06</td>\n",
       "    </tr>\n",
       "    <tr>\n",
       "      <th>...</th>\n",
       "      <td>...</td>\n",
       "      <td>...</td>\n",
       "      <td>...</td>\n",
       "      <td>...</td>\n",
       "    </tr>\n",
       "    <tr>\n",
       "      <th>194</th>\n",
       "      <td>8060.69</td>\n",
       "      <td>weld</td>\n",
       "      <td>-45.80</td>\n",
       "      <td>0.11</td>\n",
       "    </tr>\n",
       "    <tr>\n",
       "      <th>195</th>\n",
       "      <td>8073.38</td>\n",
       "      <td>casing</td>\n",
       "      <td>-45.80</td>\n",
       "      <td>0.01</td>\n",
       "    </tr>\n",
       "    <tr>\n",
       "      <th>196</th>\n",
       "      <td>8105.86</td>\n",
       "      <td>bweld</td>\n",
       "      <td>-45.57</td>\n",
       "      <td>0.23</td>\n",
       "    </tr>\n",
       "    <tr>\n",
       "      <th>197</th>\n",
       "      <td>8141.18</td>\n",
       "      <td>agm</td>\n",
       "      <td>-46.12</td>\n",
       "      <td>-0.54</td>\n",
       "    </tr>\n",
       "    <tr>\n",
       "      <th>198</th>\n",
       "      <td>8142.21</td>\n",
       "      <td>casing</td>\n",
       "      <td>-45.46</td>\n",
       "      <td>0.66</td>\n",
       "    </tr>\n",
       "  </tbody>\n",
       "</table>\n",
       "<p>199 rows × 4 columns</p>\n",
       "</div>"
      ],
      "text/plain": [
       "        odoA   event  drift  diff1\n",
       "0     279.53    weld -61.97   0.08\n",
       "1     304.78  casing -61.14   0.83\n",
       "2     324.62   bweld -61.91  -0.77\n",
       "3     331.07    weld -61.93  -0.02\n",
       "4     373.51    weld -61.99  -0.06\n",
       "..       ...     ...    ...    ...\n",
       "194  8060.69    weld -45.80   0.11\n",
       "195  8073.38  casing -45.80   0.01\n",
       "196  8105.86   bweld -45.57   0.23\n",
       "197  8141.18     agm -46.12  -0.54\n",
       "198  8142.21  casing -45.46   0.66\n",
       "\n",
       "[199 rows x 4 columns]"
      ]
     },
     "execution_count": 2,
     "metadata": {},
     "output_type": "execute_result"
    }
   ],
   "source": [
    "# Import data\n",
    "\n",
    "data = ('./Drift Paper Section 6.3 and 7 Data.csv')\n",
    "\n",
    "colNames = ['odoA','event','drift','diff1']\n",
    "\n",
    "eventTypes = pd.CategoricalDtype(categories=['agm',\n",
    "                                            'bend',\n",
    "                                            'bweld',\n",
    "                                            'casing',\n",
    "                                            'weld'], ordered=False)\n",
    "\n",
    "dataTypes = {'odoA':np.float_, \n",
    "             'event':eventTypes, \n",
    "             'drift':np.float_, \n",
    "             'diff1':np.float_}\n",
    "\n",
    "df = pd.read_csv(data, skiprows=1, header=0, names=colNames)\n",
    "\n",
    "df.name = 'Synthetic Data'\n",
    "df.astype(dataTypes)"
   ]
  },
  {
   "cell_type": "markdown",
   "id": "b47453e4",
   "metadata": {},
   "source": [
    "## Confirmation plot"
   ]
  },
  {
   "cell_type": "code",
   "execution_count": 3,
   "id": "23259b9d",
   "metadata": {
    "ExecuteTime": {
     "end_time": "2024-11-23T05:15:23.605541Z",
     "start_time": "2024-11-23T05:15:23.381824Z"
    },
    "tags": []
   },
   "outputs": [
    {
     "data": {
      "text/plain": [
       "Text(0, 0.5, '1st Diff (ft)')"
      ]
     },
     "execution_count": 3,
     "metadata": {},
     "output_type": "execute_result"
    },
    {
     "data": {
      "image/png": "[encoded data removed]",
      "text/plain": [
       "<Figure size 288x360 with 2 Axes>"
      ]
     },
     "metadata": {},
     "output_type": "display_data"
    }
   ],
   "source": [
    "plt.rc(\"figure\", figsize=(4, 5))\n",
    "fig, axs = plt.subplots(2,1, sharex=True, sharey=False)\n",
    "           \n",
    "axs[0].plot(df.odoA, df.drift)\n",
    "axs[1].plot(df.odoA, df.diff1)\n",
    "\n",
    "axs[0].set_title('Section 1', fontdict={'fontsize':18, 'fontweight':'bold'})\n",
    "axs[1].set_xlabel(\"Position (ft)\", fontdict={'fontsize':14, 'fontweight':'bold'})\n",
    "axs[0].set_ylabel('Drift (ft)', fontdict={'fontsize':16, 'fontweight':'bold'})\n",
    "axs[1].set_ylabel('1st Diff (ft)', fontdict={'fontsize':16, 'fontweight':'bold'})"
   ]
  },
  {
   "cell_type": "markdown",
   "id": "fa8f041b",
   "metadata": {},
   "source": [
    "## Joint Length Histograms\n"
   ]
  },
  {
   "cell_type": "code",
   "execution_count": 4,
   "id": "94aab027",
   "metadata": {
    "ExecuteTime": {
     "end_time": "2024-11-23T05:15:27.803106Z",
     "start_time": "2024-11-23T05:15:27.786419Z"
    },
    "tags": []
   },
   "outputs": [
    {
     "data": {
      "text/html": [
       "<div>\n",
       "<style scoped>\n",
       "    .dataframe tbody tr th:only-of-type {\n",
       "        vertical-align: middle;\n",
       "    }\n",
       "\n",
       "    .dataframe tbody tr th {\n",
       "        vertical-align: top;\n",
       "    }\n",
       "\n",
       "    .dataframe thead th {\n",
       "        text-align: right;\n",
       "    }\n",
       "</style>\n",
       "<table border=\"1\" class=\"dataframe\">\n",
       "  <thead>\n",
       "    <tr style=\"text-align: right;\">\n",
       "      <th></th>\n",
       "      <th>odoA</th>\n",
       "      <th>wc_shift</th>\n",
       "      <th>Joint_Length</th>\n",
       "    </tr>\n",
       "  </thead>\n",
       "  <tbody>\n",
       "    <tr>\n",
       "      <th>0</th>\n",
       "      <td>279.53</td>\n",
       "      <td>324.62</td>\n",
       "      <td>-45.09</td>\n",
       "    </tr>\n",
       "    <tr>\n",
       "      <th>1</th>\n",
       "      <td>304.78</td>\n",
       "      <td>279.53</td>\n",
       "      <td>25.25</td>\n",
       "    </tr>\n",
       "    <tr>\n",
       "      <th>2</th>\n",
       "      <td>324.62</td>\n",
       "      <td>304.78</td>\n",
       "      <td>19.84</td>\n",
       "    </tr>\n",
       "    <tr>\n",
       "      <th>3</th>\n",
       "      <td>331.07</td>\n",
       "      <td>324.62</td>\n",
       "      <td>6.45</td>\n",
       "    </tr>\n",
       "    <tr>\n",
       "      <th>4</th>\n",
       "      <td>373.51</td>\n",
       "      <td>331.07</td>\n",
       "      <td>42.44</td>\n",
       "    </tr>\n",
       "    <tr>\n",
       "      <th>...</th>\n",
       "      <td>...</td>\n",
       "      <td>...</td>\n",
       "      <td>...</td>\n",
       "    </tr>\n",
       "    <tr>\n",
       "      <th>194</th>\n",
       "      <td>8060.69</td>\n",
       "      <td>8018.78</td>\n",
       "      <td>41.91</td>\n",
       "    </tr>\n",
       "    <tr>\n",
       "      <th>195</th>\n",
       "      <td>8073.38</td>\n",
       "      <td>8060.69</td>\n",
       "      <td>12.69</td>\n",
       "    </tr>\n",
       "    <tr>\n",
       "      <th>196</th>\n",
       "      <td>8105.86</td>\n",
       "      <td>8073.38</td>\n",
       "      <td>32.48</td>\n",
       "    </tr>\n",
       "    <tr>\n",
       "      <th>197</th>\n",
       "      <td>8141.18</td>\n",
       "      <td>8105.86</td>\n",
       "      <td>35.32</td>\n",
       "    </tr>\n",
       "    <tr>\n",
       "      <th>198</th>\n",
       "      <td>8142.21</td>\n",
       "      <td>8141.18</td>\n",
       "      <td>1.03</td>\n",
       "    </tr>\n",
       "  </tbody>\n",
       "</table>\n",
       "<p>199 rows × 3 columns</p>\n",
       "</div>"
      ],
      "text/plain": [
       "        odoA  wc_shift  Joint_Length\n",
       "0     279.53    324.62        -45.09\n",
       "1     304.78    279.53         25.25\n",
       "2     324.62    304.78         19.84\n",
       "3     331.07    324.62          6.45\n",
       "4     373.51    331.07         42.44\n",
       "..       ...       ...           ...\n",
       "194  8060.69   8018.78         41.91\n",
       "195  8073.38   8060.69         12.69\n",
       "196  8105.86   8073.38         32.48\n",
       "197  8141.18   8105.86         35.32\n",
       "198  8142.21   8141.18          1.03\n",
       "\n",
       "[199 rows x 3 columns]"
      ]
     },
     "metadata": {},
     "output_type": "display_data"
    }
   ],
   "source": [
    "# get a set of joint lengths by subtracting adjacent wheel counts\n",
    "\n",
    "dfLen=df[['odoA']].copy()\n",
    "dfLen['wc_shift']=df[['odoA']].copy().shift(periods=1, fill_value=324.62)\n",
    "dfLen['Joint_Length']=dfLen['odoA']-dfLen['wc_shift']\n",
    "display(dfLen)"
   ]
  },
  {
   "cell_type": "code",
   "execution_count": 5,
   "id": "8b90b9d4",
   "metadata": {
    "ExecuteTime": {
     "end_time": "2024-11-23T05:21:38.442029Z",
     "start_time": "2024-11-23T05:21:38.289661Z"
    }
   },
   "outputs": [
    {
     "data": {
      "text/plain": [
       "Text(43, 0.65, '0.78')"
      ]
     },
     "execution_count": 5,
     "metadata": {},
     "output_type": "execute_result"
    },
    {
     "data": {
      "image/png": "[encoded data removed]",
      "text/plain": [
       "<Figure size 432x216 with 1 Axes>"
      ]
     },
     "metadata": {},
     "output_type": "display_data"
    }
   ],
   "source": [
    "import statistics\n",
    "\n",
    "numbins = 5\n",
    "edge = 0.04\n",
    "\n",
    "plt.rc(\"figure\", figsize=(6, 3))\n",
    "fig, axs = plt.subplots(1,1) \n",
    "\n",
    "# axs.set_title('Joint Lengths', fontdict={'fontsize':18, 'fontweight':'bold'})\n",
    "axs.set_xlabel(\"Joint Length\", fontdict={'fontsize':14, 'fontweight':'bold'})\n",
    "axs.set_ylabel(\"count/total\", fontdict={'fontsize':16, 'fontweight':'bold'})\n",
    "\n",
    "axs.hist(dfLen['Joint_Length'],\n",
    "                     bins=numbins,\n",
    "                     range=(0,50),\n",
    "                     weights=np.ones_like(dfLen['Joint_Length']) / len(dfLen['Joint_Length']),\n",
    "                     density=False)\n",
    "\n",
    "sz=0.78\n",
    "axs.text(43, 0.65, '{:.2f}'.format(sz), fontdict={'color':'w', 'fontweight':'bold'})\n"
   ]
  },
  {
   "cell_type": "markdown",
   "id": "e9a61b53",
   "metadata": {},
   "source": [
    "## Population Statistics\n",
    "\n",
    "Mean and variance tell us a lot about the stationarity.  Need a zero mean and constant variance. Also, no trend.\n",
    "\n",
    "This is often done by splitting the sample into chunks and comparing them."
   ]
  },
  {
   "cell_type": "code",
   "execution_count": 6,
   "id": "2fdde0dc",
   "metadata": {
    "ExecuteTime": {
     "end_time": "2024-11-23T05:23:28.084526Z",
     "start_time": "2024-11-23T05:23:28.075238Z"
    }
   },
   "outputs": [
    {
     "name": "stdout",
     "output_type": "stream",
     "text": [
      "Dataset :  Synthetic Data \t Curve :  diff1\n",
      "1 : mean =  0.054 \t std =  0.2 \t slope =  0.0 \t intercept =  0.0\n",
      "2 : mean =  0.011 \t std =  0.1 \t slope =  0.0 \t intercept =  -0.3\n",
      "3 : mean =  0.068 \t std =  0.6 \t slope =  0.0 \t intercept =  -0.1\n",
      "4 : mean =  0.198 \t std =  0.6 \t slope =  -0.0 \t intercept =  1.3\n"
     ]
    }
   ],
   "source": [
    "segs = [0, 0.25, 0.5, 0.75, 1]\n",
    "\n",
    "print('Dataset : ', df.name, '\\t Curve : ', 'diff1')   \n",
    "\n",
    "for i in range(1,len(segs)):\n",
    "\n",
    "    x = df.loc[round(len(df.odoA)*segs[i-1]):round(len(df.odoA)*segs[i]-1),'odoA']\n",
    "    chunk = df.loc[round(len(df.odoA)*segs[i-1]):round(len(df.odoA)*segs[i]-1), 'diff1']\n",
    "\n",
    "    slope, intercept = np.polyfit(x,chunk,1)\n",
    "    m = chunk.mean()\n",
    "    s = chunk.std()\n",
    "    \n",
    "    print(i, ': mean = ', round(m,3), '\\t std = ', round(s,1), '\\t slope = ', round(slope,3), '\\t intercept = ', round(intercept,1))\n"
   ]
  },
  {
   "cell_type": "markdown",
   "id": "75b7aa64",
   "metadata": {},
   "source": [
    "<p></p>\n",
    "<p></p>\n",
    "\n",
    "## Autocorrelation\n",
    "\n",
    "Documentation : \n",
    "    [https://www.statsmodels.org/stable/generated/statsmodels.tsa.stattools.acf.html#statsmodels.tsa.stattools.acf]\n",
    "\n",
    "Parameters:\n",
    "    \n",
    "    * x : the 1D time series data (no gaps)\n",
    "    * nlags : returned value includes lag 0, returns n+1 lags\n",
    "    * alpha : (scalar) returns confidence intervals, alpha = 0.05 => 95% conf int\n",
    "    "
   ]
  },
  {
   "cell_type": "code",
   "execution_count": 8,
   "id": "8ba17a0d",
   "metadata": {
    "ExecuteTime": {
     "end_time": "2024-11-23T05:26:57.120301Z",
     "start_time": "2024-11-23T05:26:56.303712Z"
    }
   },
   "outputs": [
    {
     "data": {
      "text/plain": [
       "(-0.3, 1.1)"
      ]
     },
     "execution_count": 8,
     "metadata": {},
     "output_type": "execute_result"
    },
    {
     "data": {
      "image/png": "[encoded data removed]",
      "text/plain": [
       "<Figure size 288x864 with 4 Axes>"
      ]
     },
     "metadata": {},
     "output_type": "display_data"
    }
   ],
   "source": [
    "import statistics\n",
    "from statsmodels.graphics.tsaplots import plot_acf\n",
    "from statsmodels.graphics.tsaplots import plot_pacf\n",
    "import matplotlib.gridspec as gridspec\n",
    "\n",
    "col = 'drift'\n",
    "\n",
    "size = [(6, 12), (4, 12)]\n",
    "plt.rc(\"figure\", figsize=size[1])\n",
    "\n",
    "mu = df[[col]].mean()[0]\n",
    "sigma = df[[col]].std()[0]\n",
    "\n",
    "fig, axs = plt.subplots(4,1, \n",
    "                        sharex=False, sharey=False, \n",
    "                        layout='constrained', \n",
    "                        gridspec_kw={'wspace': 0.1, 'hspace': 0.11})\n",
    "\n",
    "i=0\n",
    "# axs[0].set_title('Values')  \n",
    "axs[i].set_ylabel(\"Drift (ft)\", fontdict={'fontsize':18, 'fontweight':'bold'})\n",
    "axs[i].set_xlabel(\"Count\", fontdict={'fontsize':14, 'fontweight':'bold'}) \n",
    "axs[i].plot(df[[col]])\n",
    "\n",
    "i=1\n",
    "axs[i].set_ylabel(\"count/total\", fontdict={'fontsize':18, 'fontweight':'bold'})\n",
    "axs[i].set_xlabel(\"Drift (ft)\", fontdict={'fontsize':14, 'fontweight':'bold'}) \n",
    "numbins = 6\n",
    "edge = 0.04\n",
    "\n",
    "axs[i].hist(df[[col]],\n",
    "             bins=numbins,\n",
    "             range=(df[[col]].quantile(edge)[0],df[[col]].quantile(1-edge)[0]),\n",
    "             weights=np.ones_like(df[[col]]) / len(df[[col]]),\n",
    "             density=False)\n",
    "\n",
    "axs[i].axvline(mu, color='r', linestyle='dashed', linewidth=2)  \n",
    "min_ylim, max_ylim = axs[i].get_ylim()\n",
    "\n",
    "\n",
    "i=2\n",
    "axs[i].set_ylabel(\"ACF\", fontdict={'fontsize':18, 'fontweight':'bold'})\n",
    "axs[i].set_xlabel(\"Lags\", fontdict={'fontsize':14, 'fontweight':'bold'}) \n",
    "plot_acf(df[[col]], lags=30, alpha=0.01, ax=axs[i], zero=True, title=None)\n",
    "axs[i].set_ylim([-0.2, 1.1])\n",
    "# axs[i].set_xlim([-3, 40])\n",
    "\n",
    "i=3\n",
    "axs[i].set_ylabel(\"PACF\", fontdict={'fontsize':18, 'fontweight':'bold'})\n",
    "axs[i].set_xlabel(\"Lags\", fontdict={'fontsize':14, 'fontweight':'bold'})\n",
    "plot_pacf(df[[col]], lags=6, alpha=0.01, ax=axs[i], zero=False, title=None)\n",
    "axs[i].set_ylim([-0.3,1.1])\n"
   ]
  },
  {
   "cell_type": "markdown",
   "id": "ae8a2fab-ba0a-4296-b833-4105e1d94f74",
   "metadata": {},
   "source": [
    "## Partial Autocorrelation"
   ]
  },
  {
   "cell_type": "code",
   "execution_count": 10,
   "id": "92b9ac2d",
   "metadata": {
    "ExecuteTime": {
     "end_time": "2024-11-23T05:40:28.277269Z",
     "start_time": "2024-11-23T05:40:27.541510Z"
    }
   },
   "outputs": [
    {
     "data": {
      "text/plain": [
       "(-0.5, 0.5)"
      ]
     },
     "execution_count": 10,
     "metadata": {},
     "output_type": "execute_result"
    },
    {
     "data": {
      "image/png": "[encoded data removed]",
      "text/plain": [
       "<Figure size 288x864 with 4 Axes>"
      ]
     },
     "metadata": {},
     "output_type": "display_data"
    }
   ],
   "source": [
    "col = 'diff1'\n",
    "\n",
    "size = [(6, 12), (4, 12)]\n",
    "plt.rc(\"figure\", figsize=size[1])\n",
    "\n",
    "# plt.rcParams[\"figure.constrained_layout.hspace\"]\n",
    "\n",
    "mu = df[[col]].mean()[0]\n",
    "sigma = df[[col]].std()[0]\n",
    "\n",
    "fig, axs = plt.subplots(4,1, \n",
    "                        sharex=False, sharey=False, \n",
    "                        layout='constrained', \n",
    "                        gridspec_kw={'wspace': 0.1, 'hspace': 0.11})\n",
    "\n",
    "i=0\n",
    "# axs[0].set_title('Values')  \n",
    "axs[i].set_ylabel(\"Residual (ft)\", fontdict={'fontsize':18, 'fontweight':'bold'})\n",
    "axs[i].set_xlabel(\"Count\", fontdict={'fontsize':14, 'fontweight':'bold'}) \n",
    "axs[i].plot(df[[col]])\n",
    "axs[i].set_ylim([-0.6,0.6])\n",
    "\n",
    "axs[i].axhline(mu, color='r', linestyle='dashed', linewidth=1.5) \n",
    "# axs[i].text(0.2, mu + mu*0.5 - 0.27, r'$\\mu: {:.2f}$'.format(mu))\n",
    "\n",
    "\n",
    "i=1\n",
    "# axs[1].set_title('Distribution')\n",
    "axs[i].set_ylabel(\"count/total\", fontdict={'fontsize':18, 'fontweight':'bold'})\n",
    "axs[i].set_xlabel(\"Residual (ft)\", fontdict={'fontsize':14, 'fontweight':'bold'}) \n",
    "numbins = 9\n",
    "edge = 0.04\n",
    "\n",
    "axs[i].hist(df[[col]],\n",
    "             bins=numbins,\n",
    "             range=(df[[col]].quantile(edge)[0],df[[col]].quantile(1-edge)[0]),\n",
    "             weights=np.ones_like(df[[col]]) / len(df[[col]]),\n",
    "             density=False)\n",
    "\n",
    "axs[i].axvline(mu, color='r', linestyle='dashed', linewidth=2)  \n",
    "min_ylim, max_ylim = axs[i].get_ylim()\n",
    "# axs[i].text(mu - mu*3.5, max_ylim*0.8, r'$\\mu={:.2f}$'.format(mu))\n",
    "\n",
    "\n",
    "i=2\n",
    "axs[i].set_ylabel(\"ACF\", fontdict={'fontsize':18, 'fontweight':'bold'})\n",
    "axs[i].set_xlabel(\"Lags\", fontdict={'fontsize':14, 'fontweight':'bold'}) \n",
    "plot_acf(df[[col]], lags=30, alpha=0.01, ax=axs[i], zero=True, title=None)\n",
    "axs[i].set_ylim([-0.5, 1.1])\n",
    "# axs[i].set_xlim([-3, 40])\n",
    "\n",
    "i=3\n",
    "axs[i].set_ylabel(\"PACF\", fontdict={'fontsize':18, 'fontweight':'bold'})\n",
    "axs[i].set_xlabel(\"Lags\", fontdict={'fontsize':14, 'fontweight':'bold'})\n",
    "plot_pacf(df[[col]], lags=15, alpha=0.01, ax=axs[i], zero=False, title=None)\n",
    "axs[i].set_ylim([-0.5,0.5])\n"
   ]
  },
  {
   "cell_type": "markdown",
   "id": "ff9862b6",
   "metadata": {},
   "source": [
    "<p>\n",
    "<p>\n",
    "\n",
    "## Augmented DF w/ ARCH Toolbox\n",
    "References: \n",
    "* https://bashtage.github.io/arch/\n",
    "* https://bashtage.github.io/arch/unitroot/generated/arch.unitroot.ADF.html#arch.unitroot.ADF\n",
    "\n",
    "**Hypotheses:**\n",
    "* $H_0$: The series is not stationary, it is a random walk\n",
    "* $H_a$: The series is stationary, with no offset and n trend\n",
    "\n",
    "One-sided test. Reject $H_0$ if $z \\le z_{\\alpha}$\n",
    "\n",
    "\n",
    "\n",
    "**Select Parameters:**\n",
    "* x: 1D data series\n",
    "* trend : {“n”, “c”, “ct”, “ctt”}, optional\n",
    "    * n - no trend components\n",
    "    * c - include a constanr (default)\n",
    "    * ct - constant and linear time trend\n",
    "    * ctt - constant and quadradic time trend\n",
    "\n",
    "\n"
   ]
  },
  {
   "cell_type": "code",
   "execution_count": 11,
   "id": "dc1c543f",
   "metadata": {
    "ExecuteTime": {
     "end_time": "2024-05-28T02:36:35.948338Z",
     "start_time": "2024-05-28T02:36:35.930623Z"
    }
   },
   "outputs": [
    {
     "name": "stdout",
     "output_type": "stream",
     "text": [
      "   Augmented Dickey-Fuller Results   \n",
      "=====================================\n",
      "Test Statistic                -12.966\n",
      "P-value                         0.000\n",
      "Lags                                1\n",
      "-------------------------------------\n",
      "\n",
      "Trend: Constant\n",
      "Critical Values: -3.46 (1%), -2.88 (5%), -2.57 (10%)\n",
      "Null Hypothesis: The process contains a unit root.\n",
      "Alternative Hypothesis: The process is weakly stationary.\n"
     ]
    }
   ],
   "source": [
    "from arch.unitroot import ADF\n",
    "col = 'diff1'\n",
    "\n",
    "adf = ADF(df[[col]], lags = None, trend='c') \n",
    "print(adf.summary().as_text())"
   ]
  },
  {
   "cell_type": "markdown",
   "id": "55e6ccd5",
   "metadata": {},
   "source": [
    "<p><p>\n",
    "    \n",
    "## KPSS Test\n",
    "\n",
    "The Kwiatkowski, Phillips, Schmidt and Shin (KPSS) stationarity test.\n",
    "\n",
    "Reference: \n",
    "https://bashtage.github.io/arch/unitroot/generated/arch.unitroot.KPSS.html#arch.unitroot.KPSS\n",
    "\n",
    "Like ADF, the KPSS test is also a unit root test. This one is based around a linear regression, thus the test assumes the series is stationary. The null hypothesis is reversed from ADF.  Null is that the sequence is stationary.  The alternate is that it is stationary.\n",
    "\n",
    "**Hypotheses:**\n",
    "* $H_0$ : The series is stationary\n",
    "* $H_a$ : The series is non-stationary\n",
    "\n",
    "One-sided test. Reject $H_0$ if $z \\ge z_{\\alpha}$\n",
    "    \n",
    "\n",
    "**Parameters:**\n",
    "* x : 1D data series\n",
    "* trend : {“c”, “ct”}, optional\n",
    "    * c - include a constant\n",
    "    * ct - include a constant and a linear trend\n",
    "    "
   ]
  },
  {
   "cell_type": "code",
   "execution_count": 14,
   "id": "6333ac90",
   "metadata": {
    "ExecuteTime": {
     "end_time": "2024-05-28T02:33:11.174315Z",
     "start_time": "2024-05-28T02:33:11.157105Z"
    }
   },
   "outputs": [
    {
     "data": {
      "text/html": [
       "<div>\n",
       "<style scoped>\n",
       "    .dataframe tbody tr th:only-of-type {\n",
       "        vertical-align: middle;\n",
       "    }\n",
       "\n",
       "    .dataframe tbody tr th {\n",
       "        vertical-align: top;\n",
       "    }\n",
       "\n",
       "    .dataframe thead th {\n",
       "        text-align: right;\n",
       "    }\n",
       "</style>\n",
       "<table border=\"1\" class=\"dataframe\">\n",
       "  <thead>\n",
       "    <tr style=\"text-align: right;\">\n",
       "      <th></th>\n",
       "      <th>diff1</th>\n",
       "    </tr>\n",
       "  </thead>\n",
       "  <tbody>\n",
       "    <tr>\n",
       "      <th>0</th>\n",
       "      <td>0.08</td>\n",
       "    </tr>\n",
       "    <tr>\n",
       "      <th>1</th>\n",
       "      <td>0.83</td>\n",
       "    </tr>\n",
       "    <tr>\n",
       "      <th>2</th>\n",
       "      <td>-0.77</td>\n",
       "    </tr>\n",
       "    <tr>\n",
       "      <th>3</th>\n",
       "      <td>-0.02</td>\n",
       "    </tr>\n",
       "    <tr>\n",
       "      <th>4</th>\n",
       "      <td>-0.06</td>\n",
       "    </tr>\n",
       "    <tr>\n",
       "      <th>...</th>\n",
       "      <td>...</td>\n",
       "    </tr>\n",
       "    <tr>\n",
       "      <th>194</th>\n",
       "      <td>0.11</td>\n",
       "    </tr>\n",
       "    <tr>\n",
       "      <th>195</th>\n",
       "      <td>0.01</td>\n",
       "    </tr>\n",
       "    <tr>\n",
       "      <th>196</th>\n",
       "      <td>0.23</td>\n",
       "    </tr>\n",
       "    <tr>\n",
       "      <th>197</th>\n",
       "      <td>-0.54</td>\n",
       "    </tr>\n",
       "    <tr>\n",
       "      <th>198</th>\n",
       "      <td>0.66</td>\n",
       "    </tr>\n",
       "  </tbody>\n",
       "</table>\n",
       "<p>199 rows × 1 columns</p>\n",
       "</div>"
      ],
      "text/plain": [
       "     diff1\n",
       "0     0.08\n",
       "1     0.83\n",
       "2    -0.77\n",
       "3    -0.02\n",
       "4    -0.06\n",
       "..     ...\n",
       "194   0.11\n",
       "195   0.01\n",
       "196   0.23\n",
       "197  -0.54\n",
       "198   0.66\n",
       "\n",
       "[199 rows x 1 columns]"
      ]
     },
     "metadata": {},
     "output_type": "display_data"
    },
    {
     "name": "stdout",
     "output_type": "stream",
     "text": [
      "    KPSS Stationarity Test Results   \n",
      "=====================================\n",
      "Test Statistic                  0.663\n",
      "P-value                         0.016\n",
      "Lags                                6\n",
      "-------------------------------------\n",
      "\n",
      "Trend: Constant\n",
      "Critical Values: 0.74 (1%), 0.46 (5%), 0.35 (10%)\n",
      "Null Hypothesis: The process is weakly stationary.\n",
      "Alternative Hypothesis: The process contains a unit root.\n"
     ]
    }
   ],
   "source": [
    "# ALL events, full dataset\n",
    "\n",
    "from arch.unitroot import KPSS\n",
    "col = 'diff1'\n",
    "\n",
    "display(df[[col]])\n",
    "\n",
    "kpss = KPSS(df[[col]], lags = None, trend='c')\n",
    "print(kpss.summary().as_text())\n"
   ]
  },
  {
   "cell_type": "code",
   "execution_count": 53,
   "id": "57389858",
   "metadata": {
    "ExecuteTime": {
     "end_time": "2024-05-28T02:33:45.875562Z",
     "start_time": "2024-05-28T02:33:45.861749Z"
    }
   },
   "outputs": [
    {
     "data": {
      "text/html": [
       "<div>\n",
       "<style scoped>\n",
       "    .dataframe tbody tr th:only-of-type {\n",
       "        vertical-align: middle;\n",
       "    }\n",
       "\n",
       "    .dataframe tbody tr th {\n",
       "        vertical-align: top;\n",
       "    }\n",
       "\n",
       "    .dataframe thead th {\n",
       "        text-align: right;\n",
       "    }\n",
       "</style>\n",
       "<table border=\"1\" class=\"dataframe\">\n",
       "  <thead>\n",
       "    <tr style=\"text-align: right;\">\n",
       "      <th></th>\n",
       "      <th>diff1</th>\n",
       "    </tr>\n",
       "  </thead>\n",
       "  <tbody>\n",
       "    <tr>\n",
       "      <th>0</th>\n",
       "      <td>0.08</td>\n",
       "    </tr>\n",
       "    <tr>\n",
       "      <th>3</th>\n",
       "      <td>-0.02</td>\n",
       "    </tr>\n",
       "    <tr>\n",
       "      <th>4</th>\n",
       "      <td>-0.06</td>\n",
       "    </tr>\n",
       "    <tr>\n",
       "      <th>5</th>\n",
       "      <td>-0.05</td>\n",
       "    </tr>\n",
       "    <tr>\n",
       "      <th>6</th>\n",
       "      <td>-0.01</td>\n",
       "    </tr>\n",
       "    <tr>\n",
       "      <th>...</th>\n",
       "      <td>...</td>\n",
       "    </tr>\n",
       "    <tr>\n",
       "      <th>190</th>\n",
       "      <td>0.03</td>\n",
       "    </tr>\n",
       "    <tr>\n",
       "      <th>191</th>\n",
       "      <td>-0.09</td>\n",
       "    </tr>\n",
       "    <tr>\n",
       "      <th>192</th>\n",
       "      <td>0.19</td>\n",
       "    </tr>\n",
       "    <tr>\n",
       "      <th>193</th>\n",
       "      <td>0.08</td>\n",
       "    </tr>\n",
       "    <tr>\n",
       "      <th>194</th>\n",
       "      <td>0.11</td>\n",
       "    </tr>\n",
       "  </tbody>\n",
       "</table>\n",
       "<p>171 rows × 1 columns</p>\n",
       "</div>"
      ],
      "text/plain": [
       "     diff1\n",
       "0     0.08\n",
       "3    -0.02\n",
       "4    -0.06\n",
       "5    -0.05\n",
       "6    -0.01\n",
       "..     ...\n",
       "190   0.03\n",
       "191  -0.09\n",
       "192   0.19\n",
       "193   0.08\n",
       "194   0.11\n",
       "\n",
       "[171 rows x 1 columns]"
      ]
     },
     "metadata": {},
     "output_type": "display_data"
    },
    {
     "name": "stdout",
     "output_type": "stream",
     "text": [
      "    KPSS Stationarity Test Results   \n",
      "=====================================\n",
      "Test Statistic                  0.907\n",
      "P-value                         0.004\n",
      "Lags                                5\n",
      "-------------------------------------\n",
      "\n",
      "Trend: Constant\n",
      "Critical Values: 0.74 (1%), 0.46 (5%), 0.35 (10%)\n",
      "Null Hypothesis: The process is weakly stationary.\n",
      "Alternative Hypothesis: The process contains a unit root.\n"
     ]
    }
   ],
   "source": [
    "# weld events only, full dataset\n",
    "\n",
    "from arch.unitroot import KPSS\n",
    "col = 'diff1'\n",
    "\n",
    "display(df[[col]].loc[df['event'].isin(['weld'])])\n",
    "\n",
    "kpss = KPSS(df[[col]].loc[df['event'].isin(['weld'])], lags = None, trend='c')\n",
    "print(kpss.summary().as_text())\n"
   ]
  },
  {
   "cell_type": "markdown",
   "id": "6e0fdf65",
   "metadata": {},
   "source": [
    "<p>\n",
    "\n",
    "## Zivot-Andrews Test\n",
    "\n",
    "Allows one structural break in the series.\n",
    "\n",
    "Reference: <p>\n",
    "https://bashtage.github.io/arch/unitroot/generated/arch.unitroot.ZivotAndrews.html#arch.unitroot.ZivotAndrews\n",
    "    \n",
    " **Hypotheses**\n",
    "* $H_0$: The series is not stationary, single structural break\n",
    "* $H_a$: The series is stationary, with no offset and n trend\n",
    "\n",
    "One-sided test. Reject $H_0$ if $z \\le z_{\\alpha}$"
   ]
  },
  {
   "cell_type": "code",
   "execution_count": 15,
   "id": "deeeb5e3",
   "metadata": {
    "ExecuteTime": {
     "end_time": "2024-05-28T02:35:23.083575Z",
     "start_time": "2024-05-28T02:35:23.066808Z"
    }
   },
   "outputs": [
    {
     "name": "stdout",
     "output_type": "stream",
     "text": [
      "        Zivot-Andrews Results        \n",
      "=====================================\n",
      "Test Statistic                -14.146\n",
      "P-value                         0.000\n",
      "Lags                                1\n",
      "-------------------------------------\n",
      "\n",
      "Trend: Constant\n",
      "Critical Values: -5.28 (1%), -4.81 (5%), -4.57 (10%)\n",
      "Null Hypothesis: The process contains a unit root with a single structural break.\n",
      "Alternative Hypothesis: The process is trend and break stationary.\n"
     ]
    }
   ],
   "source": [
    "from arch.unitroot import ZivotAndrews\n",
    "\n",
    "col = 'diff1'\n",
    "\n",
    "za = ZivotAndrews(df[[col]], max_lags = None, trend='c')\n",
    "print(za.summary().as_text())\n"
   ]
  }
 ],
 "metadata": {
  "kernelspec": {
   "display_name": "Python 3 (ipykernel)",
   "language": "python",
   "name": "python3"
  },
  "language_info": {
   "codemirror_mode": {
    "name": "ipython",
    "version": 3
   },
   "file_extension": ".py",
   "mimetype": "text/x-python",
   "name": "python",
   "nbconvert_exporter": "python",
   "pygments_lexer": "ipython3",
   "version": "3.9.7"
  },
  "toc-showcode": false
 },
 "nbformat": 4,
 "nbformat_minor": 5
}
